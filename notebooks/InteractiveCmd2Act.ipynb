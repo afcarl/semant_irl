{
 "cells": [
  {
   "cell_type": "code",
   "execution_count": 1,
   "metadata": {
    "collapsed": true
   },
   "outputs": [],
   "source": [
    "import pickle\n",
    "\n",
    "from semantirl.data import load_turk_train\n",
    "from semantirl.environment import SokobanEnviron\n",
    "from semantirl.models.cmd2act import Cmd2Act\n",
    "from semantirl.utils.vocab import PAD\n",
    "from semantirl.data.parse_data import parse_state"
   ]
  },
  {
   "cell_type": "code",
   "execution_count": 15,
   "metadata": {
    "collapsed": false
   },
   "outputs": [],
   "source": [
    "def rollout(model, init_state, sentence):\n",
    "    env = SokobanEnviron(init_state)\n",
    "\n",
    "    act_seq, encoding = model.compute_action_sequence(init_state, sentence)\n",
    "    print 'Command encoding:', encoding\n",
    "    for act in act_seq:\n",
    "        print 'act:', act\n",
    "        if act == PAD:\n",
    "            continue\n",
    "        env.step(act)\n",
    "        env.render()\n",
    "\n",
    "def new_state():\n",
    "    return parse_state(\n",
    "        'room,5,0,10,6,4 room,10,6,10,10,4 room,1,0,4,10,0 door,3,4,3,3 door,8,4,8,3 door,5,6,6,6 agent,9,6')\n",
    "    "
   ]
  },
  {
   "cell_type": "code",
   "execution_count": 3,
   "metadata": {
    "collapsed": false
   },
   "outputs": [],
   "source": [
    "with open('cmd2act.model', 'r') as f:\n",
    "    cmd2act = pickle.load(f)"
   ]
  },
  {
   "cell_type": "code",
   "execution_count": 20,
   "metadata": {
    "collapsed": false
   },
   "outputs": [
    {
     "name": "stdout",
     "output_type": "stream",
     "text": [
      "Command encoding: [ 0.99902779  0.95332247 -0.95450687  0.11319325 -1.12449789  0.12273134\n",
      "  2.14062238 -0.03179002  0.9990775   0.99990898]\n",
      "act: west\n",
      "\u001b[39m\u001b[42m \u001b[39m\u001b[49m\u001b[39m\u001b[42m \u001b[39m\u001b[49m\u001b[39m\u001b[42m \u001b[39m\u001b[49m\u001b[39m\u001b[42m \u001b[39m\u001b[49m\u001b[39m\u001b[42m \u001b[39m\u001b[49m\u001b[39m\u001b[42m \u001b[39m\u001b[49m\u001b[39m\u001b[41m \u001b[39m\u001b[49m\u001b[39m\u001b[41m \u001b[39m\u001b[49m\u001b[39m\u001b[41m \u001b[39m\u001b[49m\u001b[39m\u001b[41m \u001b[39m\u001b[49m\u001b[39m\u001b[41m \u001b[39m\u001b[49m\n",
      "\u001b[39m\u001b[42m \u001b[39m\u001b[49m\u001b[39m\u001b[42m \u001b[39m\u001b[49m\u001b[39m\u001b[42m \u001b[39m\u001b[49m\u001b[39m\u001b[42m \u001b[39m\u001b[49m\u001b[39m\u001b[42m \u001b[39m\u001b[49m\u001b[39m\u001b[42m \u001b[39m\u001b[49m\u001b[39m\u001b[41m \u001b[39m\u001b[49m\u001b[39m\u001b[41m \u001b[39m\u001b[49m\u001b[39m\u001b[41m \u001b[39m\u001b[49m\u001b[39m\u001b[41m \u001b[39m\u001b[49m\u001b[39m\u001b[41m \u001b[39m\u001b[49m\n",
      "\u001b[39m\u001b[42m \u001b[39m\u001b[49m\u001b[39m\u001b[42m \u001b[39m\u001b[49m\u001b[39m\u001b[42m \u001b[39m\u001b[49m\u001b[39m\u001b[42m \u001b[39m\u001b[49m\u001b[39m\u001b[42m \u001b[39m\u001b[49m\u001b[39m\u001b[42m \u001b[39m\u001b[49m\u001b[39m\u001b[41m \u001b[39m\u001b[49m\u001b[39m\u001b[41m \u001b[39m\u001b[49m\u001b[39m\u001b[41m \u001b[39m\u001b[49m\u001b[39m\u001b[41m \u001b[39m\u001b[49m\u001b[39m\u001b[41m \u001b[39m\u001b[49m\n",
      "\u001b[39m\u001b[42m \u001b[39m\u001b[49m\u001b[39m\u001b[42m \u001b[39m\u001b[49m\u001b[39m\u001b[42m \u001b[39m\u001b[49m\u001b[39m\u001b[42m \u001b[39m\u001b[49m\u001b[39m\u001b[42m \u001b[39m\u001b[49m\u001b[39m\u001b[42m \u001b[39m\u001b[49m\u001b[39m\u001b[41m \u001b[39m\u001b[49m\u001b[39m\u001b[41m \u001b[39m\u001b[49m\u001b[39m\u001b[41m \u001b[39m\u001b[49m\u001b[39m\u001b[41m \u001b[39m\u001b[49m\u001b[39m\u001b[41m \u001b[39m\u001b[49m\n",
      "\u001b[39m\u001b[42m \u001b[39m\u001b[49m\u001b[39m\u001b[42m \u001b[39m\u001b[49m\u001b[39m\u001b[42m \u001b[39m\u001b[49m\u001b[39m\u001b[42m \u001b[39m\u001b[49m\u001b[39m\u001b[42m \u001b[39m\u001b[49m\u001b[39m\u001b[42mD\u001b[39m\u001b[49m\u001b[39m\u001b[41mD\u001b[39m\u001b[49m\u001b[39m\u001b[41m \u001b[39m\u001b[49m\u001b[39m\u001b[41mA\u001b[39m\u001b[49m\u001b[39m\u001b[41m \u001b[39m\u001b[49m\u001b[39m\u001b[41m \u001b[39m\u001b[49m\n",
      "\u001b[39m\u001b[42m \u001b[39m\u001b[49m\u001b[39m\u001b[42m \u001b[39m\u001b[49m\u001b[39m\u001b[42m \u001b[39m\u001b[49m\u001b[39m\u001b[42m \u001b[39m\u001b[49m\u001b[39m\u001b[42m \u001b[39m\u001b[49m\u001b[39m\u001b[42m \u001b[39m\u001b[49m\u001b[39m\u001b[41m \u001b[39m\u001b[49m\u001b[39m\u001b[41m \u001b[39m\u001b[49m\u001b[39m\u001b[41m \u001b[39m\u001b[49m\u001b[39m\u001b[41m \u001b[39m\u001b[49m\u001b[39m\u001b[41m \u001b[39m\u001b[49m\n",
      "\u001b[39m\u001b[44m \u001b[39m\u001b[49m\u001b[39m\u001b[44m \u001b[39m\u001b[49m\u001b[39m\u001b[44m \u001b[39m\u001b[49m\u001b[39m\u001b[44mD\u001b[39m\u001b[49m\u001b[39m\u001b[44m \u001b[39m\u001b[49m\u001b[39m\u001b[44m \u001b[39m\u001b[49m\u001b[39m\u001b[44m \u001b[39m\u001b[49m\u001b[39m\u001b[44m \u001b[39m\u001b[49m\u001b[39m\u001b[44mD\u001b[39m\u001b[49m\u001b[39m\u001b[44m \u001b[39m\u001b[49m\u001b[39m\u001b[44m \u001b[39m\u001b[49m\n",
      "\u001b[39m\u001b[44m \u001b[39m\u001b[49m\u001b[39m\u001b[44m \u001b[39m\u001b[49m\u001b[39m\u001b[44m \u001b[39m\u001b[49m\u001b[39m\u001b[44mD\u001b[39m\u001b[49m\u001b[39m\u001b[44m \u001b[39m\u001b[49m\u001b[39m\u001b[44m \u001b[39m\u001b[49m\u001b[39m\u001b[44m \u001b[39m\u001b[49m\u001b[39m\u001b[44m \u001b[39m\u001b[49m\u001b[39m\u001b[44mD\u001b[39m\u001b[49m\u001b[39m\u001b[44m \u001b[39m\u001b[49m\u001b[39m\u001b[44m \u001b[39m\u001b[49m\n",
      "\u001b[39m\u001b[44m \u001b[39m\u001b[49m\u001b[39m\u001b[44m \u001b[39m\u001b[49m\u001b[39m\u001b[44m \u001b[39m\u001b[49m\u001b[39m\u001b[44m \u001b[39m\u001b[49m\u001b[39m\u001b[44m \u001b[39m\u001b[49m\u001b[39m\u001b[44m \u001b[39m\u001b[49m\u001b[39m\u001b[44m \u001b[39m\u001b[49m\u001b[39m\u001b[44m \u001b[39m\u001b[49m\u001b[39m\u001b[44m \u001b[39m\u001b[49m\u001b[39m\u001b[44m \u001b[39m\u001b[49m\u001b[39m\u001b[44m \u001b[39m\u001b[49m\n",
      "\u001b[39m\u001b[44m \u001b[39m\u001b[49m\u001b[39m\u001b[44m \u001b[39m\u001b[49m\u001b[39m\u001b[44m \u001b[39m\u001b[49m\u001b[39m\u001b[44m \u001b[39m\u001b[49m\u001b[39m\u001b[44m \u001b[39m\u001b[49m\u001b[39m\u001b[44m \u001b[39m\u001b[49m\u001b[39m\u001b[44m \u001b[39m\u001b[49m\u001b[39m\u001b[44m \u001b[39m\u001b[49m\u001b[39m\u001b[44m \u001b[39m\u001b[49m\u001b[39m\u001b[44m \u001b[39m\u001b[49m\u001b[39m\u001b[44m \u001b[39m\u001b[49m\n",
      "\u001b[39m\u001b[44m \u001b[39m\u001b[49m\u001b[39m\u001b[44m \u001b[39m\u001b[49m\u001b[39m\u001b[44m \u001b[39m\u001b[49m\u001b[39m\u001b[44m \u001b[39m\u001b[49m\u001b[39m\u001b[44m \u001b[39m\u001b[49m\u001b[39m\u001b[44m \u001b[39m\u001b[49m\u001b[39m\u001b[44m \u001b[39m\u001b[49m\u001b[39m\u001b[44m \u001b[39m\u001b[49m\u001b[39m\u001b[44m \u001b[39m\u001b[49m\u001b[39m\u001b[44m \u001b[39m\u001b[49m\u001b[39m\u001b[44m \u001b[39m\u001b[49m\n",
      "act: west\n",
      "\u001b[39m\u001b[42m \u001b[39m\u001b[49m\u001b[39m\u001b[42m \u001b[39m\u001b[49m\u001b[39m\u001b[42m \u001b[39m\u001b[49m\u001b[39m\u001b[42m \u001b[39m\u001b[49m\u001b[39m\u001b[42m \u001b[39m\u001b[49m\u001b[39m\u001b[42m \u001b[39m\u001b[49m\u001b[39m\u001b[41m \u001b[39m\u001b[49m\u001b[39m\u001b[41m \u001b[39m\u001b[49m\u001b[39m\u001b[41m \u001b[39m\u001b[49m\u001b[39m\u001b[41m \u001b[39m\u001b[49m\u001b[39m\u001b[41m \u001b[39m\u001b[49m\n",
      "\u001b[39m\u001b[42m \u001b[39m\u001b[49m\u001b[39m\u001b[42m \u001b[39m\u001b[49m\u001b[39m\u001b[42m \u001b[39m\u001b[49m\u001b[39m\u001b[42m \u001b[39m\u001b[49m\u001b[39m\u001b[42m \u001b[39m\u001b[49m\u001b[39m\u001b[42m \u001b[39m\u001b[49m\u001b[39m\u001b[41m \u001b[39m\u001b[49m\u001b[39m\u001b[41m \u001b[39m\u001b[49m\u001b[39m\u001b[41m \u001b[39m\u001b[49m\u001b[39m\u001b[41m \u001b[39m\u001b[49m\u001b[39m\u001b[41m \u001b[39m\u001b[49m\n",
      "\u001b[39m\u001b[42m \u001b[39m\u001b[49m\u001b[39m\u001b[42m \u001b[39m\u001b[49m\u001b[39m\u001b[42m \u001b[39m\u001b[49m\u001b[39m\u001b[42m \u001b[39m\u001b[49m\u001b[39m\u001b[42m \u001b[39m\u001b[49m\u001b[39m\u001b[42m \u001b[39m\u001b[49m\u001b[39m\u001b[41m \u001b[39m\u001b[49m\u001b[39m\u001b[41m \u001b[39m\u001b[49m\u001b[39m\u001b[41m \u001b[39m\u001b[49m\u001b[39m\u001b[41m \u001b[39m\u001b[49m\u001b[39m\u001b[41m \u001b[39m\u001b[49m\n",
      "\u001b[39m\u001b[42m \u001b[39m\u001b[49m\u001b[39m\u001b[42m \u001b[39m\u001b[49m\u001b[39m\u001b[42m \u001b[39m\u001b[49m\u001b[39m\u001b[42m \u001b[39m\u001b[49m\u001b[39m\u001b[42m \u001b[39m\u001b[49m\u001b[39m\u001b[42m \u001b[39m\u001b[49m\u001b[39m\u001b[41m \u001b[39m\u001b[49m\u001b[39m\u001b[41m \u001b[39m\u001b[49m\u001b[39m\u001b[41m \u001b[39m\u001b[49m\u001b[39m\u001b[41m \u001b[39m\u001b[49m\u001b[39m\u001b[41m \u001b[39m\u001b[49m\n",
      "\u001b[39m\u001b[42m \u001b[39m\u001b[49m\u001b[39m\u001b[42m \u001b[39m\u001b[49m\u001b[39m\u001b[42m \u001b[39m\u001b[49m\u001b[39m\u001b[42m \u001b[39m\u001b[49m\u001b[39m\u001b[42m \u001b[39m\u001b[49m\u001b[39m\u001b[42mD\u001b[39m\u001b[49m\u001b[39m\u001b[41mD\u001b[39m\u001b[49m\u001b[39m\u001b[41mA\u001b[39m\u001b[49m\u001b[39m\u001b[41m \u001b[39m\u001b[49m\u001b[39m\u001b[41m \u001b[39m\u001b[49m\u001b[39m\u001b[41m \u001b[39m\u001b[49m\n",
      "\u001b[39m\u001b[42m \u001b[39m\u001b[49m\u001b[39m\u001b[42m \u001b[39m\u001b[49m\u001b[39m\u001b[42m \u001b[39m\u001b[49m\u001b[39m\u001b[42m \u001b[39m\u001b[49m\u001b[39m\u001b[42m \u001b[39m\u001b[49m\u001b[39m\u001b[42m \u001b[39m\u001b[49m\u001b[39m\u001b[41m \u001b[39m\u001b[49m\u001b[39m\u001b[41m \u001b[39m\u001b[49m\u001b[39m\u001b[41m \u001b[39m\u001b[49m\u001b[39m\u001b[41m \u001b[39m\u001b[49m\u001b[39m\u001b[41m \u001b[39m\u001b[49m\n",
      "\u001b[39m\u001b[44m \u001b[39m\u001b[49m\u001b[39m\u001b[44m \u001b[39m\u001b[49m\u001b[39m\u001b[44m \u001b[39m\u001b[49m\u001b[39m\u001b[44mD\u001b[39m\u001b[49m\u001b[39m\u001b[44m \u001b[39m\u001b[49m\u001b[39m\u001b[44m \u001b[39m\u001b[49m\u001b[39m\u001b[44m \u001b[39m\u001b[49m\u001b[39m\u001b[44m \u001b[39m\u001b[49m\u001b[39m\u001b[44mD\u001b[39m\u001b[49m\u001b[39m\u001b[44m \u001b[39m\u001b[49m\u001b[39m\u001b[44m \u001b[39m\u001b[49m\n",
      "\u001b[39m\u001b[44m \u001b[39m\u001b[49m\u001b[39m\u001b[44m \u001b[39m\u001b[49m\u001b[39m\u001b[44m \u001b[39m\u001b[49m\u001b[39m\u001b[44mD\u001b[39m\u001b[49m\u001b[39m\u001b[44m \u001b[39m\u001b[49m\u001b[39m\u001b[44m \u001b[39m\u001b[49m\u001b[39m\u001b[44m \u001b[39m\u001b[49m\u001b[39m\u001b[44m \u001b[39m\u001b[49m\u001b[39m\u001b[44mD\u001b[39m\u001b[49m\u001b[39m\u001b[44m \u001b[39m\u001b[49m\u001b[39m\u001b[44m \u001b[39m\u001b[49m\n",
      "\u001b[39m\u001b[44m \u001b[39m\u001b[49m\u001b[39m\u001b[44m \u001b[39m\u001b[49m\u001b[39m\u001b[44m \u001b[39m\u001b[49m\u001b[39m\u001b[44m \u001b[39m\u001b[49m\u001b[39m\u001b[44m \u001b[39m\u001b[49m\u001b[39m\u001b[44m \u001b[39m\u001b[49m\u001b[39m\u001b[44m \u001b[39m\u001b[49m\u001b[39m\u001b[44m \u001b[39m\u001b[49m\u001b[39m\u001b[44m \u001b[39m\u001b[49m\u001b[39m\u001b[44m \u001b[39m\u001b[49m\u001b[39m\u001b[44m \u001b[39m\u001b[49m\n",
      "\u001b[39m\u001b[44m \u001b[39m\u001b[49m\u001b[39m\u001b[44m \u001b[39m\u001b[49m\u001b[39m\u001b[44m \u001b[39m\u001b[49m\u001b[39m\u001b[44m \u001b[39m\u001b[49m\u001b[39m\u001b[44m \u001b[39m\u001b[49m\u001b[39m\u001b[44m \u001b[39m\u001b[49m\u001b[39m\u001b[44m \u001b[39m\u001b[49m\u001b[39m\u001b[44m \u001b[39m\u001b[49m\u001b[39m\u001b[44m \u001b[39m\u001b[49m\u001b[39m\u001b[44m \u001b[39m\u001b[49m\u001b[39m\u001b[44m \u001b[39m\u001b[49m\n",
      "\u001b[39m\u001b[44m \u001b[39m\u001b[49m\u001b[39m\u001b[44m \u001b[39m\u001b[49m\u001b[39m\u001b[44m \u001b[39m\u001b[49m\u001b[39m\u001b[44m \u001b[39m\u001b[49m\u001b[39m\u001b[44m \u001b[39m\u001b[49m\u001b[39m\u001b[44m \u001b[39m\u001b[49m\u001b[39m\u001b[44m \u001b[39m\u001b[49m\u001b[39m\u001b[44m \u001b[39m\u001b[49m\u001b[39m\u001b[44m \u001b[39m\u001b[49m\u001b[39m\u001b[44m \u001b[39m\u001b[49m\u001b[39m\u001b[44m \u001b[39m\u001b[49m\n",
      "act: west\n",
      "\u001b[39m\u001b[42m \u001b[39m\u001b[49m\u001b[39m\u001b[42m \u001b[39m\u001b[49m\u001b[39m\u001b[42m \u001b[39m\u001b[49m\u001b[39m\u001b[42m \u001b[39m\u001b[49m\u001b[39m\u001b[42m \u001b[39m\u001b[49m\u001b[39m\u001b[42m \u001b[39m\u001b[49m\u001b[39m\u001b[41m \u001b[39m\u001b[49m\u001b[39m\u001b[41m \u001b[39m\u001b[49m\u001b[39m\u001b[41m \u001b[39m\u001b[49m\u001b[39m\u001b[41m \u001b[39m\u001b[49m\u001b[39m\u001b[41m \u001b[39m\u001b[49m\n",
      "\u001b[39m\u001b[42m \u001b[39m\u001b[49m\u001b[39m\u001b[42m \u001b[39m\u001b[49m\u001b[39m\u001b[42m \u001b[39m\u001b[49m\u001b[39m\u001b[42m \u001b[39m\u001b[49m\u001b[39m\u001b[42m \u001b[39m\u001b[49m\u001b[39m\u001b[42m \u001b[39m\u001b[49m\u001b[39m\u001b[41m \u001b[39m\u001b[49m\u001b[39m\u001b[41m \u001b[39m\u001b[49m\u001b[39m\u001b[41m \u001b[39m\u001b[49m\u001b[39m\u001b[41m \u001b[39m\u001b[49m\u001b[39m\u001b[41m \u001b[39m\u001b[49m\n",
      "\u001b[39m\u001b[42m \u001b[39m\u001b[49m\u001b[39m\u001b[42m \u001b[39m\u001b[49m\u001b[39m\u001b[42m \u001b[39m\u001b[49m\u001b[39m\u001b[42m \u001b[39m\u001b[49m\u001b[39m\u001b[42m \u001b[39m\u001b[49m\u001b[39m\u001b[42m \u001b[39m\u001b[49m\u001b[39m\u001b[41m \u001b[39m\u001b[49m\u001b[39m\u001b[41m \u001b[39m\u001b[49m\u001b[39m\u001b[41m \u001b[39m\u001b[49m\u001b[39m\u001b[41m \u001b[39m\u001b[49m\u001b[39m\u001b[41m \u001b[39m\u001b[49m\n",
      "\u001b[39m\u001b[42m \u001b[39m\u001b[49m\u001b[39m\u001b[42m \u001b[39m\u001b[49m\u001b[39m\u001b[42m \u001b[39m\u001b[49m\u001b[39m\u001b[42m \u001b[39m\u001b[49m\u001b[39m\u001b[42m \u001b[39m\u001b[49m\u001b[39m\u001b[42m \u001b[39m\u001b[49m\u001b[39m\u001b[41m \u001b[39m\u001b[49m\u001b[39m\u001b[41m \u001b[39m\u001b[49m\u001b[39m\u001b[41m \u001b[39m\u001b[49m\u001b[39m\u001b[41m \u001b[39m\u001b[49m\u001b[39m\u001b[41m \u001b[39m\u001b[49m\n",
      "\u001b[39m\u001b[42m \u001b[39m\u001b[49m\u001b[39m\u001b[42m \u001b[39m\u001b[49m\u001b[39m\u001b[42m \u001b[39m\u001b[49m\u001b[39m\u001b[42m \u001b[39m\u001b[49m\u001b[39m\u001b[42m \u001b[39m\u001b[49m\u001b[39m\u001b[42mD\u001b[39m\u001b[49m\u001b[39m\u001b[41mA\u001b[39m\u001b[49m\u001b[39m\u001b[41m \u001b[39m\u001b[49m\u001b[39m\u001b[41m \u001b[39m\u001b[49m\u001b[39m\u001b[41m \u001b[39m\u001b[49m\u001b[39m\u001b[41m \u001b[39m\u001b[49m\n",
      "\u001b[39m\u001b[42m \u001b[39m\u001b[49m\u001b[39m\u001b[42m \u001b[39m\u001b[49m\u001b[39m\u001b[42m \u001b[39m\u001b[49m\u001b[39m\u001b[42m \u001b[39m\u001b[49m\u001b[39m\u001b[42m \u001b[39m\u001b[49m\u001b[39m\u001b[42m \u001b[39m\u001b[49m\u001b[39m\u001b[41m \u001b[39m\u001b[49m\u001b[39m\u001b[41m \u001b[39m\u001b[49m\u001b[39m\u001b[41m \u001b[39m\u001b[49m\u001b[39m\u001b[41m \u001b[39m\u001b[49m\u001b[39m\u001b[41m \u001b[39m\u001b[49m\n",
      "\u001b[39m\u001b[44m \u001b[39m\u001b[49m\u001b[39m\u001b[44m \u001b[39m\u001b[49m\u001b[39m\u001b[44m \u001b[39m\u001b[49m\u001b[39m\u001b[44mD\u001b[39m\u001b[49m\u001b[39m\u001b[44m \u001b[39m\u001b[49m\u001b[39m\u001b[44m \u001b[39m\u001b[49m\u001b[39m\u001b[44m \u001b[39m\u001b[49m\u001b[39m\u001b[44m \u001b[39m\u001b[49m\u001b[39m\u001b[44mD\u001b[39m\u001b[49m\u001b[39m\u001b[44m \u001b[39m\u001b[49m\u001b[39m\u001b[44m \u001b[39m\u001b[49m\n",
      "\u001b[39m\u001b[44m \u001b[39m\u001b[49m\u001b[39m\u001b[44m \u001b[39m\u001b[49m\u001b[39m\u001b[44m \u001b[39m\u001b[49m\u001b[39m\u001b[44mD\u001b[39m\u001b[49m\u001b[39m\u001b[44m \u001b[39m\u001b[49m\u001b[39m\u001b[44m \u001b[39m\u001b[49m\u001b[39m\u001b[44m \u001b[39m\u001b[49m\u001b[39m\u001b[44m \u001b[39m\u001b[49m\u001b[39m\u001b[44mD\u001b[39m\u001b[49m\u001b[39m\u001b[44m \u001b[39m\u001b[49m\u001b[39m\u001b[44m \u001b[39m\u001b[49m\n",
      "\u001b[39m\u001b[44m \u001b[39m\u001b[49m\u001b[39m\u001b[44m \u001b[39m\u001b[49m\u001b[39m\u001b[44m \u001b[39m\u001b[49m\u001b[39m\u001b[44m \u001b[39m\u001b[49m\u001b[39m\u001b[44m \u001b[39m\u001b[49m\u001b[39m\u001b[44m \u001b[39m\u001b[49m\u001b[39m\u001b[44m \u001b[39m\u001b[49m\u001b[39m\u001b[44m \u001b[39m\u001b[49m\u001b[39m\u001b[44m \u001b[39m\u001b[49m\u001b[39m\u001b[44m \u001b[39m\u001b[49m\u001b[39m\u001b[44m \u001b[39m\u001b[49m\n",
      "\u001b[39m\u001b[44m \u001b[39m\u001b[49m\u001b[39m\u001b[44m \u001b[39m\u001b[49m\u001b[39m\u001b[44m \u001b[39m\u001b[49m\u001b[39m\u001b[44m \u001b[39m\u001b[49m\u001b[39m\u001b[44m \u001b[39m\u001b[49m\u001b[39m\u001b[44m \u001b[39m\u001b[49m\u001b[39m\u001b[44m \u001b[39m\u001b[49m\u001b[39m\u001b[44m \u001b[39m\u001b[49m\u001b[39m\u001b[44m \u001b[39m\u001b[49m\u001b[39m\u001b[44m \u001b[39m\u001b[49m\u001b[39m\u001b[44m \u001b[39m\u001b[49m\n",
      "\u001b[39m\u001b[44m \u001b[39m\u001b[49m\u001b[39m\u001b[44m \u001b[39m\u001b[49m\u001b[39m\u001b[44m \u001b[39m\u001b[49m\u001b[39m\u001b[44m \u001b[39m\u001b[49m\u001b[39m\u001b[44m \u001b[39m\u001b[49m\u001b[39m\u001b[44m \u001b[39m\u001b[49m\u001b[39m\u001b[44m \u001b[39m\u001b[49m\u001b[39m\u001b[44m \u001b[39m\u001b[49m\u001b[39m\u001b[44m \u001b[39m\u001b[49m\u001b[39m\u001b[44m \u001b[39m\u001b[49m\u001b[39m\u001b[44m \u001b[39m\u001b[49m\n",
      "act: north\n",
      "\u001b[39m\u001b[42m \u001b[39m\u001b[49m\u001b[39m\u001b[42m \u001b[39m\u001b[49m\u001b[39m\u001b[42m \u001b[39m\u001b[49m\u001b[39m\u001b[42m \u001b[39m\u001b[49m\u001b[39m\u001b[42m \u001b[39m\u001b[49m\u001b[39m\u001b[42m \u001b[39m\u001b[49m\u001b[39m\u001b[41m \u001b[39m\u001b[49m\u001b[39m\u001b[41m \u001b[39m\u001b[49m\u001b[39m\u001b[41m \u001b[39m\u001b[49m\u001b[39m\u001b[41m \u001b[39m\u001b[49m\u001b[39m\u001b[41m \u001b[39m\u001b[49m\n",
      "\u001b[39m\u001b[42m \u001b[39m\u001b[49m\u001b[39m\u001b[42m \u001b[39m\u001b[49m\u001b[39m\u001b[42m \u001b[39m\u001b[49m\u001b[39m\u001b[42m \u001b[39m\u001b[49m\u001b[39m\u001b[42m \u001b[39m\u001b[49m\u001b[39m\u001b[42m \u001b[39m\u001b[49m\u001b[39m\u001b[41m \u001b[39m\u001b[49m\u001b[39m\u001b[41m \u001b[39m\u001b[49m\u001b[39m\u001b[41m \u001b[39m\u001b[49m\u001b[39m\u001b[41m \u001b[39m\u001b[49m\u001b[39m\u001b[41m \u001b[39m\u001b[49m\n",
      "\u001b[39m\u001b[42m \u001b[39m\u001b[49m\u001b[39m\u001b[42m \u001b[39m\u001b[49m\u001b[39m\u001b[42m \u001b[39m\u001b[49m\u001b[39m\u001b[42m \u001b[39m\u001b[49m\u001b[39m\u001b[42m \u001b[39m\u001b[49m\u001b[39m\u001b[42m \u001b[39m\u001b[49m\u001b[39m\u001b[41m \u001b[39m\u001b[49m\u001b[39m\u001b[41m \u001b[39m\u001b[49m\u001b[39m\u001b[41m \u001b[39m\u001b[49m\u001b[39m\u001b[41m \u001b[39m\u001b[49m\u001b[39m\u001b[41m \u001b[39m\u001b[49m\n",
      "\u001b[39m\u001b[42m \u001b[39m\u001b[49m\u001b[39m\u001b[42m \u001b[39m\u001b[49m\u001b[39m\u001b[42m \u001b[39m\u001b[49m\u001b[39m\u001b[42m \u001b[39m\u001b[49m\u001b[39m\u001b[42m \u001b[39m\u001b[49m\u001b[39m\u001b[42m \u001b[39m\u001b[49m\u001b[39m\u001b[41mA\u001b[39m\u001b[49m\u001b[39m\u001b[41m \u001b[39m\u001b[49m\u001b[39m\u001b[41m \u001b[39m\u001b[49m\u001b[39m\u001b[41m \u001b[39m\u001b[49m\u001b[39m\u001b[41m \u001b[39m\u001b[49m\n",
      "\u001b[39m\u001b[42m \u001b[39m\u001b[49m\u001b[39m\u001b[42m \u001b[39m\u001b[49m\u001b[39m\u001b[42m \u001b[39m\u001b[49m\u001b[39m\u001b[42m \u001b[39m\u001b[49m\u001b[39m\u001b[42m \u001b[39m\u001b[49m\u001b[39m\u001b[42mD\u001b[39m\u001b[49m\u001b[39m\u001b[41mD\u001b[39m\u001b[49m\u001b[39m\u001b[41m \u001b[39m\u001b[49m\u001b[39m\u001b[41m \u001b[39m\u001b[49m\u001b[39m\u001b[41m \u001b[39m\u001b[49m\u001b[39m\u001b[41m \u001b[39m\u001b[49m\n",
      "\u001b[39m\u001b[42m \u001b[39m\u001b[49m\u001b[39m\u001b[42m \u001b[39m\u001b[49m\u001b[39m\u001b[42m \u001b[39m\u001b[49m\u001b[39m\u001b[42m \u001b[39m\u001b[49m\u001b[39m\u001b[42m \u001b[39m\u001b[49m\u001b[39m\u001b[42m \u001b[39m\u001b[49m\u001b[39m\u001b[41m \u001b[39m\u001b[49m\u001b[39m\u001b[41m \u001b[39m\u001b[49m\u001b[39m\u001b[41m \u001b[39m\u001b[49m\u001b[39m\u001b[41m \u001b[39m\u001b[49m\u001b[39m\u001b[41m \u001b[39m\u001b[49m\n",
      "\u001b[39m\u001b[44m \u001b[39m\u001b[49m\u001b[39m\u001b[44m \u001b[39m\u001b[49m\u001b[39m\u001b[44m \u001b[39m\u001b[49m\u001b[39m\u001b[44mD\u001b[39m\u001b[49m\u001b[39m\u001b[44m \u001b[39m\u001b[49m\u001b[39m\u001b[44m \u001b[39m\u001b[49m\u001b[39m\u001b[44m \u001b[39m\u001b[49m\u001b[39m\u001b[44m \u001b[39m\u001b[49m\u001b[39m\u001b[44mD\u001b[39m\u001b[49m\u001b[39m\u001b[44m \u001b[39m\u001b[49m\u001b[39m\u001b[44m \u001b[39m\u001b[49m\n",
      "\u001b[39m\u001b[44m \u001b[39m\u001b[49m\u001b[39m\u001b[44m \u001b[39m\u001b[49m\u001b[39m\u001b[44m \u001b[39m\u001b[49m\u001b[39m\u001b[44mD\u001b[39m\u001b[49m\u001b[39m\u001b[44m \u001b[39m\u001b[49m\u001b[39m\u001b[44m \u001b[39m\u001b[49m\u001b[39m\u001b[44m \u001b[39m\u001b[49m\u001b[39m\u001b[44m \u001b[39m\u001b[49m\u001b[39m\u001b[44mD\u001b[39m\u001b[49m\u001b[39m\u001b[44m \u001b[39m\u001b[49m\u001b[39m\u001b[44m \u001b[39m\u001b[49m\n",
      "\u001b[39m\u001b[44m \u001b[39m\u001b[49m\u001b[39m\u001b[44m \u001b[39m\u001b[49m\u001b[39m\u001b[44m \u001b[39m\u001b[49m\u001b[39m\u001b[44m \u001b[39m\u001b[49m\u001b[39m\u001b[44m \u001b[39m\u001b[49m\u001b[39m\u001b[44m \u001b[39m\u001b[49m\u001b[39m\u001b[44m \u001b[39m\u001b[49m\u001b[39m\u001b[44m \u001b[39m\u001b[49m\u001b[39m\u001b[44m \u001b[39m\u001b[49m\u001b[39m\u001b[44m \u001b[39m\u001b[49m\u001b[39m\u001b[44m \u001b[39m\u001b[49m\n",
      "\u001b[39m\u001b[44m \u001b[39m\u001b[49m\u001b[39m\u001b[44m \u001b[39m\u001b[49m\u001b[39m\u001b[44m \u001b[39m\u001b[49m\u001b[39m\u001b[44m \u001b[39m\u001b[49m\u001b[39m\u001b[44m \u001b[39m\u001b[49m\u001b[39m\u001b[44m \u001b[39m\u001b[49m\u001b[39m\u001b[44m \u001b[39m\u001b[49m\u001b[39m\u001b[44m \u001b[39m\u001b[49m\u001b[39m\u001b[44m \u001b[39m\u001b[49m\u001b[39m\u001b[44m \u001b[39m\u001b[49m\u001b[39m\u001b[44m \u001b[39m\u001b[49m\n",
      "\u001b[39m\u001b[44m \u001b[39m\u001b[49m\u001b[39m\u001b[44m \u001b[39m\u001b[49m\u001b[39m\u001b[44m \u001b[39m\u001b[49m\u001b[39m\u001b[44m \u001b[39m\u001b[49m\u001b[39m\u001b[44m \u001b[39m\u001b[49m\u001b[39m\u001b[44m \u001b[39m\u001b[49m\u001b[39m\u001b[44m \u001b[39m\u001b[49m\u001b[39m\u001b[44m \u001b[39m\u001b[49m\u001b[39m\u001b[44m \u001b[39m\u001b[49m\u001b[39m\u001b[44m \u001b[39m\u001b[49m\u001b[39m\u001b[44m \u001b[39m\u001b[49m\n",
      "act: north\n",
      "\u001b[39m\u001b[42m \u001b[39m\u001b[49m\u001b[39m\u001b[42m \u001b[39m\u001b[49m\u001b[39m\u001b[42m \u001b[39m\u001b[49m\u001b[39m\u001b[42m \u001b[39m\u001b[49m\u001b[39m\u001b[42m \u001b[39m\u001b[49m\u001b[39m\u001b[42m \u001b[39m\u001b[49m\u001b[39m\u001b[41m \u001b[39m\u001b[49m\u001b[39m\u001b[41m \u001b[39m\u001b[49m\u001b[39m\u001b[41m \u001b[39m\u001b[49m\u001b[39m\u001b[41m \u001b[39m\u001b[49m\u001b[39m\u001b[41m \u001b[39m\u001b[49m\n",
      "\u001b[39m\u001b[42m \u001b[39m\u001b[49m\u001b[39m\u001b[42m \u001b[39m\u001b[49m\u001b[39m\u001b[42m \u001b[39m\u001b[49m\u001b[39m\u001b[42m \u001b[39m\u001b[49m\u001b[39m\u001b[42m \u001b[39m\u001b[49m\u001b[39m\u001b[42m \u001b[39m\u001b[49m\u001b[39m\u001b[41m \u001b[39m\u001b[49m\u001b[39m\u001b[41m \u001b[39m\u001b[49m\u001b[39m\u001b[41m \u001b[39m\u001b[49m\u001b[39m\u001b[41m \u001b[39m\u001b[49m\u001b[39m\u001b[41m \u001b[39m\u001b[49m\n",
      "\u001b[39m\u001b[42m \u001b[39m\u001b[49m\u001b[39m\u001b[42m \u001b[39m\u001b[49m\u001b[39m\u001b[42m \u001b[39m\u001b[49m\u001b[39m\u001b[42m \u001b[39m\u001b[49m\u001b[39m\u001b[42m \u001b[39m\u001b[49m\u001b[39m\u001b[42m \u001b[39m\u001b[49m\u001b[39m\u001b[41mA\u001b[39m\u001b[49m\u001b[39m\u001b[41m \u001b[39m\u001b[49m\u001b[39m\u001b[41m \u001b[39m\u001b[49m\u001b[39m\u001b[41m \u001b[39m\u001b[49m\u001b[39m\u001b[41m \u001b[39m\u001b[49m\n",
      "\u001b[39m\u001b[42m \u001b[39m\u001b[49m\u001b[39m\u001b[42m \u001b[39m\u001b[49m\u001b[39m\u001b[42m \u001b[39m\u001b[49m\u001b[39m\u001b[42m \u001b[39m\u001b[49m\u001b[39m\u001b[42m \u001b[39m\u001b[49m\u001b[39m\u001b[42m \u001b[39m\u001b[49m\u001b[39m\u001b[41m \u001b[39m\u001b[49m\u001b[39m\u001b[41m \u001b[39m\u001b[49m\u001b[39m\u001b[41m \u001b[39m\u001b[49m\u001b[39m\u001b[41m \u001b[39m\u001b[49m\u001b[39m\u001b[41m \u001b[39m\u001b[49m\n",
      "\u001b[39m\u001b[42m \u001b[39m\u001b[49m\u001b[39m\u001b[42m \u001b[39m\u001b[49m\u001b[39m\u001b[42m \u001b[39m\u001b[49m\u001b[39m\u001b[42m \u001b[39m\u001b[49m\u001b[39m\u001b[42m \u001b[39m\u001b[49m\u001b[39m\u001b[42mD\u001b[39m\u001b[49m\u001b[39m\u001b[41mD\u001b[39m\u001b[49m\u001b[39m\u001b[41m \u001b[39m\u001b[49m\u001b[39m\u001b[41m \u001b[39m\u001b[49m\u001b[39m\u001b[41m \u001b[39m\u001b[49m\u001b[39m\u001b[41m \u001b[39m\u001b[49m\n",
      "\u001b[39m\u001b[42m \u001b[39m\u001b[49m\u001b[39m\u001b[42m \u001b[39m\u001b[49m\u001b[39m\u001b[42m \u001b[39m\u001b[49m\u001b[39m\u001b[42m \u001b[39m\u001b[49m\u001b[39m\u001b[42m \u001b[39m\u001b[49m\u001b[39m\u001b[42m \u001b[39m\u001b[49m\u001b[39m\u001b[41m \u001b[39m\u001b[49m\u001b[39m\u001b[41m \u001b[39m\u001b[49m\u001b[39m\u001b[41m \u001b[39m\u001b[49m\u001b[39m\u001b[41m \u001b[39m\u001b[49m\u001b[39m\u001b[41m \u001b[39m\u001b[49m\n",
      "\u001b[39m\u001b[44m \u001b[39m\u001b[49m\u001b[39m\u001b[44m \u001b[39m\u001b[49m\u001b[39m\u001b[44m \u001b[39m\u001b[49m\u001b[39m\u001b[44mD\u001b[39m\u001b[49m\u001b[39m\u001b[44m \u001b[39m\u001b[49m\u001b[39m\u001b[44m \u001b[39m\u001b[49m\u001b[39m\u001b[44m \u001b[39m\u001b[49m\u001b[39m\u001b[44m \u001b[39m\u001b[49m\u001b[39m\u001b[44mD\u001b[39m\u001b[49m\u001b[39m\u001b[44m \u001b[39m\u001b[49m\u001b[39m\u001b[44m \u001b[39m\u001b[49m\n",
      "\u001b[39m\u001b[44m \u001b[39m\u001b[49m\u001b[39m\u001b[44m \u001b[39m\u001b[49m\u001b[39m\u001b[44m \u001b[39m\u001b[49m\u001b[39m\u001b[44mD\u001b[39m\u001b[49m\u001b[39m\u001b[44m \u001b[39m\u001b[49m\u001b[39m\u001b[44m \u001b[39m\u001b[49m\u001b[39m\u001b[44m \u001b[39m\u001b[49m\u001b[39m\u001b[44m \u001b[39m\u001b[49m\u001b[39m\u001b[44mD\u001b[39m\u001b[49m\u001b[39m\u001b[44m \u001b[39m\u001b[49m\u001b[39m\u001b[44m \u001b[39m\u001b[49m\n",
      "\u001b[39m\u001b[44m \u001b[39m\u001b[49m\u001b[39m\u001b[44m \u001b[39m\u001b[49m\u001b[39m\u001b[44m \u001b[39m\u001b[49m\u001b[39m\u001b[44m \u001b[39m\u001b[49m\u001b[39m\u001b[44m \u001b[39m\u001b[49m\u001b[39m\u001b[44m \u001b[39m\u001b[49m\u001b[39m\u001b[44m \u001b[39m\u001b[49m\u001b[39m\u001b[44m \u001b[39m\u001b[49m\u001b[39m\u001b[44m \u001b[39m\u001b[49m\u001b[39m\u001b[44m \u001b[39m\u001b[49m\u001b[39m\u001b[44m \u001b[39m\u001b[49m\n",
      "\u001b[39m\u001b[44m \u001b[39m\u001b[49m\u001b[39m\u001b[44m \u001b[39m\u001b[49m\u001b[39m\u001b[44m \u001b[39m\u001b[49m\u001b[39m\u001b[44m \u001b[39m\u001b[49m\u001b[39m\u001b[44m \u001b[39m\u001b[49m\u001b[39m\u001b[44m \u001b[39m\u001b[49m\u001b[39m\u001b[44m \u001b[39m\u001b[49m\u001b[39m\u001b[44m \u001b[39m\u001b[49m\u001b[39m\u001b[44m \u001b[39m\u001b[49m\u001b[39m\u001b[44m \u001b[39m\u001b[49m\u001b[39m\u001b[44m \u001b[39m\u001b[49m\n",
      "\u001b[39m\u001b[44m \u001b[39m\u001b[49m\u001b[39m\u001b[44m \u001b[39m\u001b[49m\u001b[39m\u001b[44m \u001b[39m\u001b[49m\u001b[39m\u001b[44m \u001b[39m\u001b[49m\u001b[39m\u001b[44m \u001b[39m\u001b[49m\u001b[39m\u001b[44m \u001b[39m\u001b[49m\u001b[39m\u001b[44m \u001b[39m\u001b[49m\u001b[39m\u001b[44m \u001b[39m\u001b[49m\u001b[39m\u001b[44m \u001b[39m\u001b[49m\u001b[39m\u001b[44m \u001b[39m\u001b[49m\u001b[39m\u001b[44m \u001b[39m\u001b[49m\n",
      "act: _EOS\n",
      "\u001b[39m\u001b[42m \u001b[39m\u001b[49m\u001b[39m\u001b[42m \u001b[39m\u001b[49m\u001b[39m\u001b[42m \u001b[39m\u001b[49m\u001b[39m\u001b[42m \u001b[39m\u001b[49m\u001b[39m\u001b[42m \u001b[39m\u001b[49m\u001b[39m\u001b[42m \u001b[39m\u001b[49m\u001b[39m\u001b[41m \u001b[39m\u001b[49m\u001b[39m\u001b[41m \u001b[39m\u001b[49m\u001b[39m\u001b[41m \u001b[39m\u001b[49m\u001b[39m\u001b[41m \u001b[39m\u001b[49m\u001b[39m\u001b[41m \u001b[39m\u001b[49m\n",
      "\u001b[39m\u001b[42m \u001b[39m\u001b[49m\u001b[39m\u001b[42m \u001b[39m\u001b[49m\u001b[39m\u001b[42m \u001b[39m\u001b[49m\u001b[39m\u001b[42m \u001b[39m\u001b[49m\u001b[39m\u001b[42m \u001b[39m\u001b[49m\u001b[39m\u001b[42m \u001b[39m\u001b[49m\u001b[39m\u001b[41m \u001b[39m\u001b[49m\u001b[39m\u001b[41m \u001b[39m\u001b[49m\u001b[39m\u001b[41m \u001b[39m\u001b[49m\u001b[39m\u001b[41m \u001b[39m\u001b[49m\u001b[39m\u001b[41m \u001b[39m\u001b[49m\n",
      "\u001b[39m\u001b[42m \u001b[39m\u001b[49m\u001b[39m\u001b[42m \u001b[39m\u001b[49m\u001b[39m\u001b[42m \u001b[39m\u001b[49m\u001b[39m\u001b[42m \u001b[39m\u001b[49m\u001b[39m\u001b[42m \u001b[39m\u001b[49m\u001b[39m\u001b[42m \u001b[39m\u001b[49m\u001b[39m\u001b[41mA\u001b[39m\u001b[49m\u001b[39m\u001b[41m \u001b[39m\u001b[49m\u001b[39m\u001b[41m \u001b[39m\u001b[49m\u001b[39m\u001b[41m \u001b[39m\u001b[49m\u001b[39m\u001b[41m \u001b[39m\u001b[49m\n",
      "\u001b[39m\u001b[42m \u001b[39m\u001b[49m\u001b[39m\u001b[42m \u001b[39m\u001b[49m\u001b[39m\u001b[42m \u001b[39m\u001b[49m\u001b[39m\u001b[42m \u001b[39m\u001b[49m\u001b[39m\u001b[42m \u001b[39m\u001b[49m\u001b[39m\u001b[42m \u001b[39m\u001b[49m\u001b[39m\u001b[41m \u001b[39m\u001b[49m\u001b[39m\u001b[41m \u001b[39m\u001b[49m\u001b[39m\u001b[41m \u001b[39m\u001b[49m\u001b[39m\u001b[41m \u001b[39m\u001b[49m\u001b[39m\u001b[41m \u001b[39m\u001b[49m\n",
      "\u001b[39m\u001b[42m \u001b[39m\u001b[49m\u001b[39m\u001b[42m \u001b[39m\u001b[49m\u001b[39m\u001b[42m \u001b[39m\u001b[49m\u001b[39m\u001b[42m \u001b[39m\u001b[49m\u001b[39m\u001b[42m \u001b[39m\u001b[49m\u001b[39m\u001b[42mD\u001b[39m\u001b[49m\u001b[39m\u001b[41mD\u001b[39m\u001b[49m\u001b[39m\u001b[41m \u001b[39m\u001b[49m\u001b[39m\u001b[41m \u001b[39m\u001b[49m\u001b[39m\u001b[41m \u001b[39m\u001b[49m\u001b[39m\u001b[41m \u001b[39m\u001b[49m\n",
      "\u001b[39m\u001b[42m \u001b[39m\u001b[49m\u001b[39m\u001b[42m \u001b[39m\u001b[49m\u001b[39m\u001b[42m \u001b[39m\u001b[49m\u001b[39m\u001b[42m \u001b[39m\u001b[49m\u001b[39m\u001b[42m \u001b[39m\u001b[49m\u001b[39m\u001b[42m \u001b[39m\u001b[49m\u001b[39m\u001b[41m \u001b[39m\u001b[49m\u001b[39m\u001b[41m \u001b[39m\u001b[49m\u001b[39m\u001b[41m \u001b[39m\u001b[49m\u001b[39m\u001b[41m \u001b[39m\u001b[49m\u001b[39m\u001b[41m \u001b[39m\u001b[49m\n",
      "\u001b[39m\u001b[44m \u001b[39m\u001b[49m\u001b[39m\u001b[44m \u001b[39m\u001b[49m\u001b[39m\u001b[44m \u001b[39m\u001b[49m\u001b[39m\u001b[44mD\u001b[39m\u001b[49m\u001b[39m\u001b[44m \u001b[39m\u001b[49m\u001b[39m\u001b[44m \u001b[39m\u001b[49m\u001b[39m\u001b[44m \u001b[39m\u001b[49m\u001b[39m\u001b[44m \u001b[39m\u001b[49m\u001b[39m\u001b[44mD\u001b[39m\u001b[49m\u001b[39m\u001b[44m \u001b[39m\u001b[49m\u001b[39m\u001b[44m \u001b[39m\u001b[49m\n",
      "\u001b[39m\u001b[44m \u001b[39m\u001b[49m\u001b[39m\u001b[44m \u001b[39m\u001b[49m\u001b[39m\u001b[44m \u001b[39m\u001b[49m\u001b[39m\u001b[44mD\u001b[39m\u001b[49m\u001b[39m\u001b[44m \u001b[39m\u001b[49m\u001b[39m\u001b[44m \u001b[39m\u001b[49m\u001b[39m\u001b[44m \u001b[39m\u001b[49m\u001b[39m\u001b[44m \u001b[39m\u001b[49m\u001b[39m\u001b[44mD\u001b[39m\u001b[49m\u001b[39m\u001b[44m \u001b[39m\u001b[49m\u001b[39m\u001b[44m \u001b[39m\u001b[49m\n",
      "\u001b[39m\u001b[44m \u001b[39m\u001b[49m\u001b[39m\u001b[44m \u001b[39m\u001b[49m\u001b[39m\u001b[44m \u001b[39m\u001b[49m\u001b[39m\u001b[44m \u001b[39m\u001b[49m\u001b[39m\u001b[44m \u001b[39m\u001b[49m\u001b[39m\u001b[44m \u001b[39m\u001b[49m\u001b[39m\u001b[44m \u001b[39m\u001b[49m\u001b[39m\u001b[44m \u001b[39m\u001b[49m\u001b[39m\u001b[44m \u001b[39m\u001b[49m\u001b[39m\u001b[44m \u001b[39m\u001b[49m\u001b[39m\u001b[44m \u001b[39m\u001b[49m\n",
      "\u001b[39m\u001b[44m \u001b[39m\u001b[49m\u001b[39m\u001b[44m \u001b[39m\u001b[49m\u001b[39m\u001b[44m \u001b[39m\u001b[49m\u001b[39m\u001b[44m \u001b[39m\u001b[49m\u001b[39m\u001b[44m \u001b[39m\u001b[49m\u001b[39m\u001b[44m \u001b[39m\u001b[49m\u001b[39m\u001b[44m \u001b[39m\u001b[49m\u001b[39m\u001b[44m \u001b[39m\u001b[49m\u001b[39m\u001b[44m \u001b[39m\u001b[49m\u001b[39m\u001b[44m \u001b[39m\u001b[49m\u001b[39m\u001b[44m \u001b[39m\u001b[49m\n",
      "\u001b[39m\u001b[44m \u001b[39m\u001b[49m\u001b[39m\u001b[44m \u001b[39m\u001b[49m\u001b[39m\u001b[44m \u001b[39m\u001b[49m\u001b[39m\u001b[44m \u001b[39m\u001b[49m\u001b[39m\u001b[44m \u001b[39m\u001b[49m\u001b[39m\u001b[44m \u001b[39m\u001b[49m\u001b[39m\u001b[44m \u001b[39m\u001b[49m\u001b[39m\u001b[44m \u001b[39m\u001b[49m\u001b[39m\u001b[44m \u001b[39m\u001b[49m\u001b[39m\u001b[44m \u001b[39m\u001b[49m\u001b[39m\u001b[44m \u001b[39m\u001b[49m\n",
      "act: _PAD\n",
      "act: _PAD\n",
      "act: _PAD\n",
      "act: _PAD\n",
      "act: _PAD\n",
      "act: _PAD\n",
      "act: _PAD\n",
      "act: _PAD\n",
      "act: _PAD\n",
      "act: _PAD\n",
      "act: _PAD\n",
      "act: _PAD\n",
      "act: _PAD\n",
      "act: _PAD\n",
      "act: _PAD\n"
     ]
    }
   ],
   "source": [
    "rollout(cmd2act, new_state(), 'move through door'.split(' '))\n",
    "    "
   ]
  },
  {
   "cell_type": "code",
   "execution_count": null,
   "metadata": {
    "collapsed": true
   },
   "outputs": [],
   "source": []
  }
 ],
 "metadata": {
  "kernelspec": {
   "display_name": "Python 2",
   "language": "python",
   "name": "python2"
  },
  "language_info": {
   "codemirror_mode": {
    "name": "ipython",
    "version": 2
   },
   "file_extension": ".py",
   "mimetype": "text/x-python",
   "name": "python",
   "nbconvert_exporter": "python",
   "pygments_lexer": "ipython2",
   "version": "2.7.12"
  }
 },
 "nbformat": 4,
 "nbformat_minor": 1
}
